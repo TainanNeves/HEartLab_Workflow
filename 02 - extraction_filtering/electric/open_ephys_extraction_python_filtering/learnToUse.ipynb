{
 "cells": [
  {
   "cell_type": "markdown",
   "id": "a222f5da-a3cc-4e69-b6c6-f87c4934bd5b",
   "metadata": {
    "tags": []
   },
   "source": [
    "# Elétrico"
   ]
  },
  {
   "cell_type": "markdown",
   "id": "320a6e73-cf6c-4901-a7eb-2f74ece66fb5",
   "metadata": {
    "jp-MarkdownHeadingCollapsed": true,
    "tags": [],
    "toc-hr-collapsed": true
   },
   "source": [
    "## Jeito antigo"
   ]
  },
  {
   "cell_type": "code",
   "execution_count": 1,
   "id": "ab1e9f46-a30d-4278-a619-237798ccf038",
   "metadata": {},
   "outputs": [
    {
     "name": "stdout",
     "output_type": "stream",
     "text": [
      "Defaulting to user installation because normal site-packages is not writeable\n",
      "Collecting Pyppeteer\n",
      "  Downloading pyppeteer-1.0.2-py3-none-any.whl (83 kB)\n",
      "     ---------------------------------------- 0.0/83.4 kB ? eta -:--:--\n",
      "     ---------------------------------------- 83.4/83.4 kB 1.6 MB/s eta 0:00:00\n",
      "Requirement already satisfied: appdirs<2.0.0,>=1.4.3 in c:\\programdata\\anaconda3\\lib\\site-packages (from Pyppeteer) (1.4.4)\n",
      "Requirement already satisfied: certifi>=2021 in c:\\programdata\\anaconda3\\lib\\site-packages (from Pyppeteer) (2023.7.22)\n",
      "Requirement already satisfied: importlib-metadata>=1.4 in c:\\programdata\\anaconda3\\lib\\site-packages (from Pyppeteer) (6.0.0)\n",
      "Collecting pyee<9.0.0,>=8.1.0 (from Pyppeteer)\n",
      "  Downloading pyee-8.2.2-py2.py3-none-any.whl (12 kB)\n",
      "Requirement already satisfied: tqdm<5.0.0,>=4.42.1 in c:\\programdata\\anaconda3\\lib\\site-packages (from Pyppeteer) (4.65.0)\n",
      "Requirement already satisfied: urllib3<2.0.0,>=1.25.8 in c:\\programdata\\anaconda3\\lib\\site-packages (from Pyppeteer) (1.26.16)\n",
      "Collecting websockets<11.0,>=10.0 (from Pyppeteer)\n",
      "  Downloading websockets-10.4-cp311-cp311-win_amd64.whl (101 kB)\n",
      "     ---------------------------------------- 0.0/101.4 kB ? eta -:--:--\n",
      "     -------------------------------------- 101.4/101.4 kB 5.7 MB/s eta 0:00:00\n",
      "Requirement already satisfied: zipp>=0.5 in c:\\programdata\\anaconda3\\lib\\site-packages (from importlib-metadata>=1.4->Pyppeteer) (3.11.0)\n",
      "Requirement already satisfied: colorama in c:\\programdata\\anaconda3\\lib\\site-packages (from tqdm<5.0.0,>=4.42.1->Pyppeteer) (0.4.6)\n",
      "Installing collected packages: pyee, websockets, Pyppeteer\n",
      "Successfully installed Pyppeteer-1.0.2 pyee-8.2.2 websockets-10.4\n"
     ]
    },
    {
     "name": "stderr",
     "output_type": "stream",
     "text": [
      "  WARNING: The script pyppeteer-install.exe is installed in 'C:\\Users\\taina\\AppData\\Roaming\\Python\\Python311\\Scripts' which is not on PATH.\n",
      "  Consider adding this directory to PATH or, if you prefer to suppress this warning, use --no-warn-script-location.\n"
     ]
    }
   ],
   "source": [
    "#Bibliotecas\n",
    "import Binary\n",
    "\n",
    "from glob import glob\n",
    "import os\n",
    "\n",
    "import numpy as np\n",
    "import pandas as pd\n",
    "import matplotlib.pyplot as plt\n",
    "\n",
    "import scipy.io\n",
    "\n",
    "import nbconvert\n",
    "!pip install Pyppeteer"
   ]
  },
  {
   "cell_type": "code",
   "execution_count": 2,
   "id": "03b9d015-7abd-428e-aac6-fdabf7baef5c",
   "metadata": {},
   "outputs": [
    {
     "name": "stdout",
     "output_type": "stream",
     "text": [
      "Done.\n",
      "{}\n",
      "dict_keys([])\n"
     ]
    },
    {
     "ename": "KeyError",
     "evalue": "'100'",
     "output_type": "error",
     "traceback": [
      "\u001b[1;31m---------------------------------------------------------------------------\u001b[0m",
      "\u001b[1;31mKeyError\u001b[0m                                  Traceback (most recent call last)",
      "Cell \u001b[1;32mIn[2], line 7\u001b[0m\n\u001b[0;32m      5\u001b[0m \u001b[38;5;28mprint\u001b[39m(el_sample_rate)\u001b[38;5;66;03m#Sample rate\u001b[39;00m\n\u001b[0;32m      6\u001b[0m \u001b[38;5;28mprint\u001b[39m(el_data\u001b[38;5;241m.\u001b[39mkeys()) \u001b[38;5;66;03m#Chave 01\u001b[39;00m\n\u001b[1;32m----> 7\u001b[0m \u001b[38;5;28mprint\u001b[39m(el_data[\u001b[38;5;124m'\u001b[39m\u001b[38;5;124m100\u001b[39m\u001b[38;5;124m'\u001b[39m]\u001b[38;5;241m.\u001b[39mkeys()) \u001b[38;5;66;03m#Chave 02\u001b[39;00m\n\u001b[0;32m      8\u001b[0m \u001b[38;5;28mprint\u001b[39m(el_data[\u001b[38;5;124m'\u001b[39m\u001b[38;5;124m100\u001b[39m\u001b[38;5;124m'\u001b[39m][\u001b[38;5;124m'\u001b[39m\u001b[38;5;124m0\u001b[39m\u001b[38;5;124m'\u001b[39m]\u001b[38;5;241m.\u001b[39mkeys()) \u001b[38;5;66;03m#Chave 03 (Onde estão os dados)\u001b[39;00m\n\u001b[0;32m      9\u001b[0m \u001b[38;5;28mprint\u001b[39m(el_data[\u001b[38;5;124m'\u001b[39m\u001b[38;5;124m100\u001b[39m\u001b[38;5;124m'\u001b[39m][\u001b[38;5;124m'\u001b[39m\u001b[38;5;124m0\u001b[39m\u001b[38;5;124m'\u001b[39m][\u001b[38;5;124m'\u001b[39m\u001b[38;5;124m0\u001b[39m\u001b[38;5;124m'\u001b[39m]\u001b[38;5;241m.\u001b[39mshape)  \u001b[38;5;66;03m#Formato dos dados\u001b[39;00m\n",
      "\u001b[1;31mKeyError\u001b[0m: '100'"
     ]
    }
   ],
   "source": [
    "#Carregando eletrodos\n",
    "folder = \"Record Node 101\"\n",
    "el_data, el_sample_rate = Binary.Load(folder, Experiment=1, Recording=1)\n",
    "\n",
    "print(el_sample_rate)#Sample rate\n",
    "print(el_data.keys()) #Chave 01\n",
    "print(el_data['100'].keys()) #Chave 02\n",
    "print(el_data['100']['0'].keys()) #Chave 03 (Onde estão os dados)\n",
    "print(el_data['100']['0']['0'].shape)  #Formato dos dados\n",
    "\n",
    "print(type((el_data['100']['0']['0'][::,0])))#Checando o tipo de arquivo gerado (Numpy Array)\n",
    "\n",
    "data_el = el_data['100']['0']['0'] #Criando variavel com dados gerais\n",
    "print(type(data_el[::,0]))"
   ]
  },
  {
   "cell_type": "code",
   "execution_count": null,
   "id": "5a6b0370-faf5-48d2-b878-415cb7424fc0",
   "metadata": {},
   "outputs": [],
   "source": [
    "list(el_sample_rate.keys())[0]"
   ]
  },
  {
   "cell_type": "code",
   "execution_count": null,
   "id": "45a96a82-2d50-4f7b-8dc5-ac87d562f3f9",
   "metadata": {},
   "outputs": [],
   "source": [
    "list(el_data[list(el_sample_rate.keys())[0]])[0]"
   ]
  },
  {
   "cell_type": "code",
   "execution_count": null,
   "id": "b2116c0a-117b-4abc-8470-ca0d6199ba1c",
   "metadata": {},
   "outputs": [],
   "source": [
    "el_sample_rate[list(el_sample_rate.keys())[0]][list(el_data[list(el_sample_rate.keys())[0]])[0]]"
   ]
  },
  {
   "cell_type": "code",
   "execution_count": null,
   "id": "440481c2-df41-46da-a2d4-f85550fc27ca",
   "metadata": {},
   "outputs": [],
   "source": [
    "type(data_el)"
   ]
  },
  {
   "cell_type": "code",
   "execution_count": null,
   "id": "fe5a615e-e3fa-4929-8434-9552637d002f",
   "metadata": {},
   "outputs": [],
   "source": [
    "data_df = pd.DataFrame(data_el)"
   ]
  },
  {
   "cell_type": "code",
   "execution_count": null,
   "id": "5c43e7a2-85f3-4d3d-91d0-a1cb8ac3011c",
   "metadata": {},
   "outputs": [],
   "source": [
    "type(data_df)"
   ]
  },
  {
   "cell_type": "markdown",
   "id": "228c296e-c9b4-41ca-ad7c-3d1cb1b23558",
   "metadata": {},
   "source": [
    "## Jeito Novo"
   ]
  },
  {
   "cell_type": "code",
   "execution_count": 2,
   "id": "e697f896-abb8-4c69-947a-98ebcd47544e",
   "metadata": {
    "tags": []
   },
   "outputs": [],
   "source": [
    "import heartlab_lib as HL"
   ]
  },
  {
   "cell_type": "markdown",
   "id": "d7f84c57-d226-4087-b661-371f4c9adafc",
   "metadata": {},
   "source": [
    "### loadingData"
   ]
  },
  {
   "cell_type": "code",
   "execution_count": 3,
   "id": "69825e72-e5a3-4362-bdb9-8f60c600ffd1",
   "metadata": {
    "tags": []
   },
   "outputs": [
    {
     "name": "stdout",
     "output_type": "stream",
     "text": [
      "Loading recording 1 ...\n",
      "Converting to uV... Done.\n",
      "Sample Rate: 4000.0hz \n",
      "Electrodes: 128 \n",
      "Recording time: 25.6s\n"
     ]
    }
   ],
   "source": [
    "#Load in folder the \"RecordNodexxx\" folder path\n",
    "#Use r\"path\" to allow spaces in the adress\n",
    "folder = r\"E:\\HEartLab\\Dados exp\\electrical_mapping_20230524_E8\\03\\no_filter\\2023-05-24_16-36-48\\Record Node 101\"\n",
    "experiment = 1\n",
    "recording = 1\n",
    "\n",
    "data, sample_rate, n_electrodes, time = HL.loadingData(folder, experiment, recording)"
   ]
  },
  {
   "cell_type": "code",
   "execution_count": 5,
   "id": "a4789283-07e3-43c3-bf1b-27d09cb31422",
   "metadata": {},
   "outputs": [
    {
     "name": "stdout",
     "output_type": "stream",
     "text": [
      "Sample Rate:  4000.0 Hz\n",
      "num Electrodes:  128\n",
      "Recording time:  25.6 s\n"
     ]
    }
   ],
   "source": [
    "print(\"Sample Rate: \", sample_rate, \"Hz\")\n",
    "print(\"num Electrodes: \", n_electrodes)\n",
    "print(\"Recording time: \", time, \"s\")"
   ]
  },
  {
   "cell_type": "code",
   "execution_count": 6,
   "id": "0b19fbf7-382f-4cc0-a8be-153eee3f69ff",
   "metadata": {},
   "outputs": [
    {
     "data": {
      "text/plain": [
       "(102400, 128)"
      ]
     },
     "execution_count": 6,
     "metadata": {},
     "output_type": "execute_result"
    }
   ],
   "source": [
    "data.shape"
   ]
  },
  {
   "cell_type": "code",
   "execution_count": 15,
   "id": "6f836abe-f541-462c-9e12-dec8cda48363",
   "metadata": {},
   "outputs": [
    {
     "data": {
      "text/html": [
       "<div>\n",
       "<style scoped>\n",
       "    .dataframe tbody tr th:only-of-type {\n",
       "        vertical-align: middle;\n",
       "    }\n",
       "\n",
       "    .dataframe tbody tr th {\n",
       "        vertical-align: top;\n",
       "    }\n",
       "\n",
       "    .dataframe thead th {\n",
       "        text-align: right;\n",
       "    }\n",
       "</style>\n",
       "<table border=\"1\" class=\"dataframe\">\n",
       "  <thead>\n",
       "    <tr style=\"text-align: right;\">\n",
       "      <th></th>\n",
       "      <th>0</th>\n",
       "      <th>1</th>\n",
       "      <th>2</th>\n",
       "      <th>3</th>\n",
       "      <th>4</th>\n",
       "      <th>5</th>\n",
       "      <th>6</th>\n",
       "      <th>7</th>\n",
       "      <th>8</th>\n",
       "      <th>9</th>\n",
       "      <th>...</th>\n",
       "      <th>118</th>\n",
       "      <th>119</th>\n",
       "      <th>120</th>\n",
       "      <th>121</th>\n",
       "      <th>122</th>\n",
       "      <th>123</th>\n",
       "      <th>124</th>\n",
       "      <th>125</th>\n",
       "      <th>126</th>\n",
       "      <th>127</th>\n",
       "    </tr>\n",
       "  </thead>\n",
       "  <tbody>\n",
       "    <tr>\n",
       "      <th>0</th>\n",
       "      <td>67.274994</td>\n",
       "      <td>85.214996</td>\n",
       "      <td>96.329994</td>\n",
       "      <td>3.120</td>\n",
       "      <td>65.324997</td>\n",
       "      <td>82.289993</td>\n",
       "      <td>99.644997</td>\n",
       "      <td>90.674995</td>\n",
       "      <td>76.829994</td>\n",
       "      <td>86.579994</td>\n",
       "      <td>...</td>\n",
       "      <td>93.794998</td>\n",
       "      <td>104.714996</td>\n",
       "      <td>101.789993</td>\n",
       "      <td>121.289993</td>\n",
       "      <td>113.684998</td>\n",
       "      <td>115.439995</td>\n",
       "      <td>120.314995</td>\n",
       "      <td>121.094994</td>\n",
       "      <td>2.340000</td>\n",
       "      <td>-0.195</td>\n",
       "    </tr>\n",
       "    <tr>\n",
       "      <th>1</th>\n",
       "      <td>75.854996</td>\n",
       "      <td>86.579994</td>\n",
       "      <td>100.034996</td>\n",
       "      <td>5.070</td>\n",
       "      <td>74.099998</td>\n",
       "      <td>85.409996</td>\n",
       "      <td>106.469994</td>\n",
       "      <td>93.989998</td>\n",
       "      <td>88.919998</td>\n",
       "      <td>95.354996</td>\n",
       "      <td>...</td>\n",
       "      <td>100.814995</td>\n",
       "      <td>108.809998</td>\n",
       "      <td>107.834999</td>\n",
       "      <td>128.894989</td>\n",
       "      <td>128.114990</td>\n",
       "      <td>129.284988</td>\n",
       "      <td>130.259995</td>\n",
       "      <td>128.309998</td>\n",
       "      <td>5.655000</td>\n",
       "      <td>-4.095</td>\n",
       "    </tr>\n",
       "    <tr>\n",
       "      <th>2</th>\n",
       "      <td>69.029999</td>\n",
       "      <td>85.019997</td>\n",
       "      <td>98.864998</td>\n",
       "      <td>4.875</td>\n",
       "      <td>68.250000</td>\n",
       "      <td>79.364998</td>\n",
       "      <td>99.449997</td>\n",
       "      <td>88.529999</td>\n",
       "      <td>80.924995</td>\n",
       "      <td>84.824997</td>\n",
       "      <td>...</td>\n",
       "      <td>91.454994</td>\n",
       "      <td>89.114998</td>\n",
       "      <td>85.214996</td>\n",
       "      <td>96.134995</td>\n",
       "      <td>90.674995</td>\n",
       "      <td>89.309998</td>\n",
       "      <td>93.989998</td>\n",
       "      <td>94.574997</td>\n",
       "      <td>11.309999</td>\n",
       "      <td>1.170</td>\n",
       "    </tr>\n",
       "    <tr>\n",
       "      <th>3</th>\n",
       "      <td>54.989998</td>\n",
       "      <td>74.684998</td>\n",
       "      <td>89.894997</td>\n",
       "      <td>3.120</td>\n",
       "      <td>55.184998</td>\n",
       "      <td>68.639999</td>\n",
       "      <td>80.729996</td>\n",
       "      <td>75.269997</td>\n",
       "      <td>64.154999</td>\n",
       "      <td>73.709999</td>\n",
       "      <td>...</td>\n",
       "      <td>72.149994</td>\n",
       "      <td>71.759995</td>\n",
       "      <td>64.154999</td>\n",
       "      <td>78.779999</td>\n",
       "      <td>80.534996</td>\n",
       "      <td>78.584999</td>\n",
       "      <td>82.680000</td>\n",
       "      <td>85.799995</td>\n",
       "      <td>3.705000</td>\n",
       "      <td>-0.975</td>\n",
       "    </tr>\n",
       "    <tr>\n",
       "      <th>4</th>\n",
       "      <td>60.839996</td>\n",
       "      <td>75.659996</td>\n",
       "      <td>91.454994</td>\n",
       "      <td>7.995</td>\n",
       "      <td>55.184998</td>\n",
       "      <td>75.854996</td>\n",
       "      <td>89.114998</td>\n",
       "      <td>79.949997</td>\n",
       "      <td>66.884995</td>\n",
       "      <td>77.610001</td>\n",
       "      <td>...</td>\n",
       "      <td>55.769997</td>\n",
       "      <td>53.039997</td>\n",
       "      <td>48.945000</td>\n",
       "      <td>63.179996</td>\n",
       "      <td>58.109997</td>\n",
       "      <td>61.814999</td>\n",
       "      <td>65.129997</td>\n",
       "      <td>61.814999</td>\n",
       "      <td>2.925000</td>\n",
       "      <td>4.290</td>\n",
       "    </tr>\n",
       "  </tbody>\n",
       "</table>\n",
       "<p>5 rows × 128 columns</p>\n",
       "</div>"
      ],
      "text/plain": [
       "         0          1           2      3          4          5           6    \\\n",
       "0  67.274994  85.214996   96.329994  3.120  65.324997  82.289993   99.644997   \n",
       "1  75.854996  86.579994  100.034996  5.070  74.099998  85.409996  106.469994   \n",
       "2  69.029999  85.019997   98.864998  4.875  68.250000  79.364998   99.449997   \n",
       "3  54.989998  74.684998   89.894997  3.120  55.184998  68.639999   80.729996   \n",
       "4  60.839996  75.659996   91.454994  7.995  55.184998  75.854996   89.114998   \n",
       "\n",
       "         7          8          9    ...         118         119         120  \\\n",
       "0  90.674995  76.829994  86.579994  ...   93.794998  104.714996  101.789993   \n",
       "1  93.989998  88.919998  95.354996  ...  100.814995  108.809998  107.834999   \n",
       "2  88.529999  80.924995  84.824997  ...   91.454994   89.114998   85.214996   \n",
       "3  75.269997  64.154999  73.709999  ...   72.149994   71.759995   64.154999   \n",
       "4  79.949997  66.884995  77.610001  ...   55.769997   53.039997   48.945000   \n",
       "\n",
       "          121         122         123         124         125        126  \\\n",
       "0  121.289993  113.684998  115.439995  120.314995  121.094994   2.340000   \n",
       "1  128.894989  128.114990  129.284988  130.259995  128.309998   5.655000   \n",
       "2   96.134995   90.674995   89.309998   93.989998   94.574997  11.309999   \n",
       "3   78.779999   80.534996   78.584999   82.680000   85.799995   3.705000   \n",
       "4   63.179996   58.109997   61.814999   65.129997   61.814999   2.925000   \n",
       "\n",
       "     127  \n",
       "0 -0.195  \n",
       "1 -4.095  \n",
       "2  1.170  \n",
       "3 -0.975  \n",
       "4  4.290  \n",
       "\n",
       "[5 rows x 128 columns]"
      ]
     },
     "execution_count": 15,
     "metadata": {},
     "output_type": "execute_result"
    }
   ],
   "source": [
    "data.head()"
   ]
  },
  {
   "cell_type": "markdown",
   "id": "6a34bb1b-5d30-4042-bef3-92732a552647",
   "metadata": {
    "tags": []
   },
   "source": [
    "### dataTo_csv"
   ]
  },
  {
   "cell_type": "code",
   "execution_count": null,
   "id": "82f5c044-bca7-48b2-ad34-d2c613d1e2ef",
   "metadata": {},
   "outputs": [],
   "source": [
    "#HL.dataTo_csv(data, \"sinal_exportado.csv\")"
   ]
  },
  {
   "cell_type": "markdown",
   "id": "09962490-1ea3-4587-8fb2-2ae1e1d2144c",
   "metadata": {},
   "source": [
    "### dataTo_mat"
   ]
  },
  {
   "cell_type": "code",
   "execution_count": 8,
   "id": "e82dcb6c-5f5c-42dd-a100-5f782f5afa2d",
   "metadata": {
    "tags": []
   },
   "outputs": [],
   "source": [
    "#HL.dataTo_mat(data, \"exp08_folder3_recordNode101.mat\", sample_rate, n_electrodes, time)"
   ]
  },
  {
   "cell_type": "markdown",
   "id": "18ec9ad3-1a9c-45f6-946a-09f8a8b22899",
   "metadata": {},
   "source": [
    "### genericPlot"
   ]
  },
  {
   "cell_type": "code",
   "execution_count": null,
   "id": "76771a6c-9117-4f2b-a543-6d818cad7cf6",
   "metadata": {
    "tags": []
   },
   "outputs": [],
   "source": [
    "#HL.genericPlot(data, sample_rate, 0, 4000)"
   ]
  },
  {
   "cell_type": "markdown",
   "id": "d0f2ab83-83e5-4281-a469-0e65323ca73f",
   "metadata": {},
   "source": [
    "### specificPlot"
   ]
  },
  {
   "cell_type": "code",
   "execution_count": null,
   "id": "35d02597-5854-468d-97c5-cbd484b8103b",
   "metadata": {},
   "outputs": [],
   "source": [
    "data = data\n",
    "sample_rate = 4000\n",
    "startValue = 0\n",
    "endValue = 4000\n",
    "electrodes = [1, 2, 4, 7]"
   ]
  },
  {
   "cell_type": "code",
   "execution_count": null,
   "id": "3c7f4e46-f511-441b-a7fb-01d3c03eb448",
   "metadata": {
    "tags": []
   },
   "outputs": [],
   "source": [
    "#HL.specificPlot(data, sample_rate, startValue, endValue, electrodes)"
   ]
  },
  {
   "cell_type": "markdown",
   "id": "65d0b0a2-d876-4e6d-8ca6-f73a7e38484a",
   "metadata": {},
   "source": [
    "### ComparasionPlot"
   ]
  },
  {
   "cell_type": "code",
   "execution_count": null,
   "id": "242f4d79-564d-4d29-b124-bf1dfbbf9043",
   "metadata": {},
   "outputs": [],
   "source": [
    "data = data\n",
    "sample_rate = 4000\n",
    "startValue = 0\n",
    "endValue = 4000\n",
    "electrodes = [1, 9]"
   ]
  },
  {
   "cell_type": "code",
   "execution_count": null,
   "id": "c8634383-0332-4529-b02f-49adcdc7ec10",
   "metadata": {},
   "outputs": [],
   "source": [
    "#HL.comparasionPlot(data, sample_rate, startValue, endValue, electrodes)"
   ]
  },
  {
   "cell_type": "code",
   "execution_count": null,
   "id": "9f08e612-037c-4c6c-9984-7b3a9363c9ab",
   "metadata": {},
   "outputs": [],
   "source": []
  },
  {
   "cell_type": "markdown",
   "id": "92f511bc-29c4-474f-aadb-4d0ca91f53fc",
   "metadata": {
    "jp-MarkdownHeadingCollapsed": true,
    "tags": []
   },
   "source": [
    "# Óptico"
   ]
  },
  {
   "cell_type": "code",
   "execution_count": null,
   "id": "75d9f26b-3731-49dd-94a5-3331c205360a",
   "metadata": {},
   "outputs": [],
   "source": [
    "file = \"optic/Rec_14_55_34.seq\"\n"
   ]
  },
  {
   "cell_type": "markdown",
   "id": "7e30ac81-28ab-4ffb-91e5-5140fdb6717d",
   "metadata": {},
   "source": [
    "## Funções Ilija"
   ]
  },
  {
   "cell_type": "markdown",
   "id": "68a637c1-b428-4e15-b6fc-af13c3d00c62",
   "metadata": {},
   "source": [
    "### norpix2python"
   ]
  },
  {
   "cell_type": "code",
   "execution_count": null,
   "id": "d37ab0b9-6d8b-4325-b140-b76cd3ac0ec8",
   "metadata": {},
   "outputs": [],
   "source": [
    "#header, img_out = HL.norpix2python(file, 0, 0)"
   ]
  },
  {
   "cell_type": "code",
   "execution_count": null,
   "id": "719dd7ad-e308-42f1-b743-f1acf1a5391c",
   "metadata": {},
   "outputs": [],
   "source": [
    "img_out.shape"
   ]
  },
  {
   "cell_type": "code",
   "execution_count": null,
   "id": "f6a68469-dd5f-49cd-a593-b4bc1eb5cb5f",
   "metadata": {},
   "outputs": [],
   "source": [
    "np.save(\"img_out_big.npy\", img_out)"
   ]
  },
  {
   "cell_type": "code",
   "execution_count": null,
   "id": "fc43d729-a021-4016-98e6-69453d7a85d5",
   "metadata": {},
   "outputs": [],
   "source": [
    "np.load(\"img_out_big.npy\")"
   ]
  },
  {
   "cell_type": "code",
   "execution_count": null,
   "id": "b04b683b-fdb4-4eec-88d2-4e1337da5faa",
   "metadata": {},
   "outputs": [],
   "source": []
  }
 ],
 "metadata": {
  "kernelspec": {
   "display_name": "Python 3 (ipykernel)",
   "language": "python",
   "name": "python3"
  },
  "language_info": {
   "codemirror_mode": {
    "name": "ipython",
    "version": 3
   },
   "file_extension": ".py",
   "mimetype": "text/x-python",
   "name": "python",
   "nbconvert_exporter": "python",
   "pygments_lexer": "ipython3",
   "version": "3.11.4"
  }
 },
 "nbformat": 4,
 "nbformat_minor": 5
}
